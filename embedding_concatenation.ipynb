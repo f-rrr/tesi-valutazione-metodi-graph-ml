{
 "cells": [
  {
   "cell_type": "code",
   "execution_count": 1,
   "metadata": {},
   "outputs": [
    {
     "name": "stdout",
     "output_type": "stream",
     "text": [
      "output_dir:  /Users/francescamartinucci/tesi/output_bert_no_dim_new_new2\n",
      "output_file prefix: BERT\n"
     ]
    }
   ],
   "source": [
    "import pandas as pd\n",
    "import ast\n",
    "import json\n",
    "import os\n",
    "\n",
    "with open('config.json', 'r') as f:\n",
    "    config = json.load(f)\n",
    "\n",
    "path = config['working_dir']\n",
    "\n",
    "output_dir = os.path.join(path,'output_bert_no_dim_new_new2') # Directory di output output_embedding_openai\n",
    "print('output_dir: ',output_dir)\n",
    "\n",
    "prefix = 'BERT' # openai\n",
    "print('output_file prefix:',prefix)\n",
    "\n",
    "os.makedirs(output_dir, exist_ok=True)  # Crea la directory di output se non esiste"
   ]
  },
  {
   "cell_type": "code",
   "execution_count": 3,
   "metadata": {},
   "outputs": [],
   "source": [
    "def process_embeddings(input_text, input_seq, model_name):\n",
    "    \"\"\" \n",
    "    \"\"\"\n",
    "    print(model_name)\n",
    "    \n",
    "    # # Unisce verticalmente txt e seq\n",
    "    # df_t = pd.read_csv(input_seq, sep=\"\\t\", usecols=['name', 'embedding'])\n",
    "    # df_t.set_index('name', inplace=True)\n",
    "    # df_d = pd.read_csv(input_text, sep=\"\\t\", usecols=['name', 'embedding'])\n",
    "    # df_d.set_index('name', inplace=True)\n",
    "    \n",
    "    # df_b = pd.concat([df_t, df_d], axis=0)\n",
    "    df_b = pd.read_csv(input_seq, sep=\"\\t\", usecols=['name', 'embedding'])\n",
    "    df_b.set_index('name', inplace=True)\n",
    "    print(len(df_b['embedding'].apply(ast.literal_eval).iloc[0]))\n",
    "\n",
    "    # Legge gli embeddings Grape\n",
    "    df_fo = pd.read_csv(os.path.join(path, f\"prediction_output/{model_name}_dim100_0.tsv\"), sep=\"\\t\",usecols=['name', 'embedding'])\n",
    "    df_fo.set_index('name', inplace=True)\n",
    "    print(len(df_fo['embedding'].apply(ast.literal_eval).iloc[0]))\n",
    "\n",
    "    # Join dei due dataframe in base all'indice\n",
    "    df = pd.merge(df_b, df_fo, left_index=True, right_index=True, suffixes=('_l', '_r'))  # default inner join\n",
    "\n",
    "    # Applica la funzione per convertire la stringa in array numerico e per concatenare gli array\n",
    "    df['embedding'] = df.apply(lambda row: ast.literal_eval(row['embedding_l']) + ast.literal_eval(row['embedding_r']), axis=1)\n",
    "    df.drop(columns=['embedding_l', 'embedding_r'], inplace=True)\n",
    "\n",
    "    emb_length = len(df['embedding'].iloc[0])\n",
    "    print(emb_length)\n",
    "\n",
    "    # Espandi la colonna 'embedding' in un nuovo DataFrame\n",
    "    exploded_df = pd.DataFrame(df['embedding'].tolist(), index=df.index)\n",
    "\n",
    "    # Concatenazione lungo le colonne (axis=1)\n",
    "    df_final = pd.concat([df, exploded_df], axis=1)\n",
    "\n",
    "    df_final = df_final.drop(columns=['embedding'])\n",
    "    df_final.to_csv(os.path.join(output_dir, f'{prefix}_{model_name}100_0.csv'))\n"
   ]
  },
  {
   "cell_type": "code",
   "execution_count": 4,
   "metadata": {},
   "outputs": [
    {
     "name": "stdout",
     "output_type": "stream",
     "text": [
      "line\n",
      "768\n",
      "100\n",
      "868\n",
      "node2vec\n",
      "768\n",
      "100\n",
      "868\n",
      "transe\n",
      "768\n",
      "100\n",
      "868\n"
     ]
    }
   ],
   "source": [
    "input_text = os.path.join(output_dir, \"embedded_text_nan_filled.tsv\") # non usato\n",
    "input_seq = os.path.join(output_dir, \"BERT_embeddings.tsv\")\n",
    "\n",
    "process_embeddings(input_text,input_seq,'line')\n",
    "process_embeddings(input_text,input_seq,'node2vec')\n",
    "process_embeddings(input_text,input_seq,'transe')"
   ]
  }
 ],
 "metadata": {
  "kernelspec": {
   "display_name": "3.11.0",
   "language": "python",
   "name": "python3"
  },
  "language_info": {
   "codemirror_mode": {
    "name": "ipython",
    "version": 3
   },
   "file_extension": ".py",
   "mimetype": "text/x-python",
   "name": "python",
   "nbconvert_exporter": "python",
   "pygments_lexer": "ipython3",
   "version": "3.11.0"
  }
 },
 "nbformat": 4,
 "nbformat_minor": 2
}
